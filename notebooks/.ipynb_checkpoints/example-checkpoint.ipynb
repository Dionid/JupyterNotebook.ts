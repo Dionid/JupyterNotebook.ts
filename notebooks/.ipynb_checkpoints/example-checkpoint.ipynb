{
 "cells": [
  {
   "cell_type": "code",
   "execution_count": 2,
   "metadata": {},
   "outputs": [
    {
     "name": "stdout",
     "output_type": "stream",
     "text": [
      "Hello, tslab!\n",
      "Versions: { tslab: '1.0.14', typescript: '4.1.2', node: 'v14.15.1' }\n"
     ]
    }
   ],
   "source": [
    "import * as tslab from 'tslab';\n",
    "import * as dfd from \"danfojs-node\"\n",
    "\n",
    "console.log('Hello, tslab!')\n",
    "console.log('Versions:', tslab.versions)"
   ]
  },
  {
   "cell_type": "code",
   "execution_count": 3,
   "metadata": {},
   "outputs": [
    {
     "name": "stdout",
     "output_type": "stream",
     "text": [
      "╔════════════╤═══════════════════╤═══════════════════╤═══════════════════╤═══════════════════╗\n",
      "║            │ A                 │ B                 │ C                 │ D                 ║\n",
      "╟────────────┼───────────────────┼───────────────────┼───────────────────┼───────────────────╢\n",
      "║ 0          │ 0.4612            │ 4.28283           │ -1.509            │ -1.1352           ║\n",
      "╟────────────┼───────────────────┼───────────────────┼───────────────────┼───────────────────╢\n",
      "║ 1          │ 0.5112            │ -0.22863          │ -3.39059          │ 1.1632            ║\n",
      "╟────────────┼───────────────────┼───────────────────┼───────────────────┼───────────────────╢\n",
      "║ 2          │ 0.6911            │ -0.82863          │ -1.5059           │ 2.1352            ║\n",
      "╟────────────┼───────────────────┼───────────────────┼───────────────────┼───────────────────╢\n",
      "║ 3          │ 0.4692            │ -1.28863          │ 4.5059            │ 4.1632            ║\n",
      "╚════════════╧═══════════════════╧═══════════════════╧═══════════════════╧═══════════════════╝\n",
      "\n"
     ]
    }
   ],
   "source": [
    "const json_data = [{ A: 0.4612, B: 4.28283, C: -1.509, D: -1.1352 },\n",
    "            { A: 0.5112, B: -0.22863, C: -3.39059, D: 1.1632 },\n",
    "            { A: 0.6911, B: -0.82863, C: -1.5059, D: 2.1352 },\n",
    "            { A: 0.4692, B: -1.28863, C: 4.5059, D: 4.1632 }]\n",
    "\n",
    "const df = new dfd.DataFrame(json_data)\n",
    "df.print()"
   ]
  },
  {
   "cell_type": "code",
   "execution_count": 4,
   "metadata": {},
   "outputs": [
    {
     "name": "stdout",
     "output_type": "stream",
     "text": [
      "analytics\n"
     ]
    }
   ],
   "source": [
    "console.log(process.env.NODE_ENV)"
   ]
  },
  {
   "cell_type": "code",
   "execution_count": null,
   "metadata": {},
   "outputs": [],
   "source": []
  }
 ],
 "metadata": {
  "kernelspec": {
   "display_name": "TypeScript",
   "language": "typescript",
   "name": "tslab"
  },
  "language_info": {
   "codemirror_mode": {
    "mode": "typescript",
    "name": "javascript",
    "typescript": true
   },
   "file_extension": ".ts",
   "mimetype": "text/typescript",
   "name": "typescript",
   "version": "3.7.2"
  }
 },
 "nbformat": 4,
 "nbformat_minor": 4
}

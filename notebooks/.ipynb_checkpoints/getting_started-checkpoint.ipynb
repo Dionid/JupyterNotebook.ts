{
 "cells": [
  {
   "cell_type": "markdown",
   "metadata": {},
   "source": [
    "# Getting started with tslab\n",
    "\n",
    "This notebook show the basic usage of tslab with TypeScript.\n",
    "\n",
    "## More examples\n",
    "\n",
    "After you go through this notebook, see these notebooks to understand advanced topics.\n",
    "\n",
    "- [Getting started for JavaScript users](getting_started_javascript.ipynb)\n",
    "- [Deep learning in JavaScript with TensorFlow.js](tensorflow.ipynb)"
   ]
  },
  {
   "cell_type": "markdown",
   "metadata": {},
   "source": [
    "## Writing and running your code interactively\n",
    "\n",
    "- Write and run TypeScript interactively.\n",
    "- To complete code, press `Tab`.\n",
    "- To inspect code, press `Shift-Tab`."
   ]
  },
  {
   "cell_type": "code",
   "execution_count": null,
   "metadata": {
    "scrolled": true
   },
   "outputs": [
    {
     "name": "stdout",
     "output_type": "stream",
     "text": [
      "Hello, tslab!\n",
      "Versions: { tslab: \u001b[32m'1.0.14'\u001b[39m, typescript: \u001b[32m'4.1.2'\u001b[39m, node: \u001b[32m'v14.15.1'\u001b[39m }\n"
     ]
    }
   ],
   "source": [
    "import * as tslab from 'tslab';\n",
    "\n",
    "console.log('Hello, tslab!')\n",
    "console.log('Versions:', tslab.versions)"
   ]
  },
  {
   "cell_type": "code",
   "execution_count": null,
   "metadata": {},
   "outputs": [],
   "source": [
    "/** naiveFib calculates Fibonacci number in a naive way */\n",
    "function naiveFib(n: number): number {\n",
    "    if (n > 1) {\n",
    "        return naiveFib(n - 1) + naiveFib(n - 2);\n",
    "    }\n",
    "    return 1;\n",
    "}"
   ]
  },
  {
   "cell_type": "code",
   "execution_count": null,
   "metadata": {},
   "outputs": [
    {
     "name": "stdout",
     "output_type": "stream",
     "text": [
      "naiveFib(40) = 165580141 (took 1109ms)\n"
     ]
    }
   ],
   "source": [
    "{\n",
    "    // This is 40x slower if you use Python.\n",
    "    const n = 40;\n",
    "    const start = Date.now()\n",
    "    console.log(`naiveFib(${n}) = ${naiveFib(n)} (took ${Date.now() - start}ms)`)\n",
    "}"
   ]
  },
  {
   "cell_type": "markdown",
   "metadata": {},
   "source": [
    "# class and interface\n",
    "\n",
    "You can use all TypeScript features including `class` and `interface` with the power of type-safety."
   ]
  },
  {
   "cell_type": "code",
   "execution_count": null,
   "metadata": {},
   "outputs": [
    {
     "name": "stdout",
     "output_type": "stream",
     "text": [
      "Hello, tslab!\n"
     ]
    }
   ],
   "source": [
    "interface Hello {\n",
    "    getMessage(): string;\n",
    "}\n",
    "\n",
    "class HelloImpl implements Hello {\n",
    "    private name: string;\n",
    "\n",
    "    constructor(name: string) {\n",
    "        this.name = name;\n",
    "    }\n",
    "    \n",
    "    getMessage(): string {\n",
    "        return `Hello, ${this.name}!`;\n",
    "    }\n",
    "}\n",
    "\n",
    "function printMessage(h: Hello) {\n",
    "    console.log(h.getMessage());\n",
    "}\n",
    "\n",
    "printMessage(new HelloImpl('tslab'));"
   ]
  },
  {
   "cell_type": "markdown",
   "metadata": {},
   "source": [
    "## Promise and async await\n",
    "\n",
    "tslab supports `async` and `await` from ES2017. tslab also supports top-level `await`.\n",
    "You can call asynchronous functions easily in tslab."
   ]
  },
  {
   "cell_type": "code",
   "execution_count": null,
   "metadata": {},
   "outputs": [
    {
     "name": "stdout",
     "output_type": "stream",
     "text": [
      "Slept 501[ms]\n"
     ]
    }
   ],
   "source": [
    "let sleep = (ms: number) => new Promise(resolve => setTimeout(resolve, ms));\n",
    "const start = Date.now();\n",
    "// Top-level await.\n",
    "await sleep(500);\n",
    "`Slept ${Date.now() - start}[ms]`"
   ]
  },
  {
   "cell_type": "code",
   "execution_count": null,
   "metadata": {},
   "outputs": [
    {
     "name": "stdout",
     "output_type": "stream",
     "text": [
      "Promise { \u001b[36m<pending>\u001b[39m }\n"
     ]
    }
   ],
   "source": [
    "// If you don't `await`, tslab shows `Promise` immediately.\n",
    "sleep(500);"
   ]
  },
  {
   "cell_type": "markdown",
   "metadata": {},
   "source": [
    "## display\n",
    "\n",
    "To display non-plain text data, use `tslab.display`."
   ]
  },
  {
   "cell_type": "code",
   "execution_count": null,
   "metadata": {},
   "outputs": [],
   "source": [
    "import fs from \"fs\";\n",
    "import * as tslab from \"tslab\";"
   ]
  },
  {
   "cell_type": "markdown",
   "metadata": {},
   "source": [
    "### display HTML"
   ]
  },
  {
   "cell_type": "code",
   "execution_count": null,
   "metadata": {},
   "outputs": [
    {
     "data": {
      "text/html": [
       "Hello <span style=\"color:#007ACC;font-size:x-large\"><b>Type</b>Script</span>!"
      ]
     },
     "metadata": {},
     "output_type": "display_data"
    }
   ],
   "source": [
    "tslab.display.html('Hello <span style=\"color:#007ACC;font-size:x-large\"><b>Type</b>Script</span>!')"
   ]
  },
  {
   "cell_type": "markdown",
   "metadata": {},
   "source": [
    "### display images"
   ]
  },
  {
   "cell_type": "code",
   "execution_count": null,
   "metadata": {},
   "outputs": [
    {
     "data": {
      "image/jpeg": "[encoded data removed]"
     },
     "metadata": {},
     "output_type": "display_data"
    }
   ],
   "source": [
    "tslab.display.jpeg(fs.readFileSync('images/nodejs-new-pantone-black.jpg'))"
   ]
  },
  {
   "cell_type": "markdown",
   "metadata": {},
   "source": [
    "### animation\n",
    "\n",
    "`tslab.newDisplay` creates a new `Display` instance to display and update rich contents."
   ]
  },
  {
   "cell_type": "code",
   "execution_count": null,
   "metadata": {},
   "outputs": [
    {
     "data": {
      "text/plain": [
       "progress: 100%"
      ]
     },
     "metadata": {},
     "output_type": "display_data"
    }
   ],
   "source": [
    "{\n",
    "    let display = tslab.newDisplay();\n",
    "    for (let progress = 1; progress <= 100; progress++) {\n",
    "      await sleep(20);\n",
    "      display.text(`progress: ${progress}%`);\n",
    "    }\n",
    "}"
   ]
  },
  {
   "cell_type": "markdown",
   "metadata": {},
   "source": [
    "## Supported JavaScript/TypeScript language features\n",
    "\n",
    "`tslab` uses `TypeScript 3.7` internally. You can use all of latest JavaScript language features and even the latest features supported from `TypeScript 3.7`.\n",
    "\n",
    "### ES2015 (ES6)\n",
    "\n",
    "Demostrations of selected [ES2015 features](https://babeljs.io/docs/en/learn/)."
   ]
  },
  {
   "cell_type": "code",
   "execution_count": null,
   "metadata": {},
   "outputs": [
    {
     "name": "stdout",
     "output_type": "stream",
     "text": [
      "{ abc: \u001b[33m123\u001b[39m, klm: \u001b[32m'hello'\u001b[39m }\n",
      "{ x: \u001b[33m1\u001b[39m, y: \u001b[33m2\u001b[39m, z: \u001b[33m3\u001b[39m }\n",
      "array = [ \u001b[33m0\u001b[39m, \u001b[33m4\u001b[39m, \u001b[33m16\u001b[39m, \u001b[33m36\u001b[39m, \u001b[33m64\u001b[39m ]\n"
     ]
    }
   ],
   "source": [
    "{\n",
    "    // class\n",
    "    class MyObj {\n",
    "        abc: number;\n",
    "        xyz: string;\n",
    "        constructor(abc: number, xyz: string) {\n",
    "            this.abc = abc;\n",
    "            this.xyz = xyz;\n",
    "        }\n",
    "    }\n",
    "    // const and let\n",
    "    const obj = new MyObj(123, 'hello');\n",
    "    // Destructuring\n",
    "    let {abc, xyz: klm} =  obj;\n",
    "    // Enhanced Object Literals\n",
    "    console.log({abc, klm});\n",
    "    \n",
    "    // Spread\n",
    "    let [x, y, z] = [1, 2, 3];\n",
    "    console.log({x, y, z})\n",
    "    \n",
    "    // Generator and for-of\n",
    "    let array: number[] = [];\n",
    "    for (let e of (function*(n: number) {\n",
    "        for (let i = 0; i < n; i += 2) {\n",
    "            yield i;\n",
    "        }\n",
    "    })(10)) {\n",
    "        array.push(e * e);\n",
    "    }\n",
    "    console.log('array =', array);\n",
    "}"
   ]
  },
  {
   "cell_type": "markdown",
   "metadata": {},
   "source": [
    "### ES2017\n",
    "\n",
    "tslab supports `async` and `await` from ES2017. tslab also supports top-level `await`.\n",
    "You can call asynchronous functions easily in tslab."
   ]
  },
  {
   "cell_type": "code",
   "execution_count": null,
   "metadata": {},
   "outputs": [
    {
     "name": "stdout",
     "output_type": "stream",
     "text": [
      "Slept 500[ms]\n"
     ]
    }
   ],
   "source": [
    "let fn = async () => {\n",
    "    let sleep = (ms: number) => new Promise(resolve => setTimeout(resolve, ms));\n",
    "    const start = Date.now();\n",
    "    await sleep(500);\n",
    "    return `Slept ${Date.now() - start}[ms]`\n",
    "}\n",
    "await fn();"
   ]
  },
  {
   "cell_type": "markdown",
   "metadata": {},
   "source": [
    "### ESNext\n",
    "TypeScript supports some advanced JavaScript features."
   ]
  },
  {
   "cell_type": "code",
   "execution_count": null,
   "metadata": {},
   "outputs": [
    {
     "name": "stdout",
     "output_type": "stream",
     "text": [
      "obj?.x?.z == \u001b[90mundefined\u001b[39m\n",
      "x ?? y ?? z == \u001b[33m0\u001b[39m\n"
     ]
    }
   ],
   "source": [
    "{\n",
    "    // 1. Optional Chaining\n",
    "    // https://devblogs.microsoft.com/typescript/announcing-typescript-3-7/#optional-chaining\n",
    "    let obj = {x: null};\n",
    "    console.log('obj?.x?.z ==', obj?.x?.z);\n",
    "\n",
    "    // 2. Nullish Coalescing\n",
    "    // https://devblogs.microsoft.com/typescript/announcing-typescript-3-7/#nullish-coalescing\n",
    "    let x = null, y = 0, z = 'hello';\n",
    "    console.log('x ?? y ?? z ==', x ?? y ?? z);\n",
    "}"
   ]
  }
 ],
 "metadata": {
  "kernelspec": {
   "display_name": "TypeScript",
   "language": "typescript",
   "name": "tslab"
  },
  "language_info": {
   "codemirror_mode": {
    "mode": "typescript",
    "name": "javascript",
    "typescript": true
   },
   "file_extension": ".ts",
   "mimetype": "text/typescript",
   "name": "typescript",
   "version": "3.7.2"
  }
 },
 "nbformat": 4,
 "nbformat_minor": 4
}
